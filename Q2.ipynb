{
 "cells": [
  {
   "cell_type": "code",
   "execution_count": 146,
   "metadata": {},
   "outputs": [],
   "source": [
    "import numpy as np\n",
    "import pandas as pd\n",
    "import matplotlib.pyplot as plt\n",
    "from scipy import stats"
   ]
  },
  {
   "cell_type": "code",
   "execution_count": 3,
   "metadata": {},
   "outputs": [],
   "source": [
    "df = pd.read_csv(\"Incidents_Responded_to_by_Fire_Companies.csv\", parse_dates = [\"INCIDENT_DATE_TIME\", \"ARRIVAL_DATE_TIME\", \"LAST_UNIT_CLEARED_DATE_TIME\"], low_memory = False)"
   ]
  },
  {
   "cell_type": "code",
   "execution_count": 24,
   "metadata": {},
   "outputs": [
    {
     "data": {
      "text/html": [
       "<div>\n",
       "<style scoped>\n",
       "    .dataframe tbody tr th:only-of-type {\n",
       "        vertical-align: middle;\n",
       "    }\n",
       "\n",
       "    .dataframe tbody tr th {\n",
       "        vertical-align: top;\n",
       "    }\n",
       "\n",
       "    .dataframe thead th {\n",
       "        text-align: right;\n",
       "    }\n",
       "</style>\n",
       "<table border=\"1\" class=\"dataframe\">\n",
       "  <thead>\n",
       "    <tr style=\"text-align: right;\">\n",
       "      <th></th>\n",
       "      <th>IM_INCIDENT_KEY</th>\n",
       "      <th>FIRE_BOX</th>\n",
       "      <th>INCIDENT_TYPE_DESC</th>\n",
       "      <th>INCIDENT_DATE_TIME</th>\n",
       "      <th>ARRIVAL_DATE_TIME</th>\n",
       "      <th>UNITS_ONSCENE</th>\n",
       "      <th>LAST_UNIT_CLEARED_DATE_TIME</th>\n",
       "      <th>HIGHEST_LEVEL_DESC</th>\n",
       "      <th>TOTAL_INCIDENT_DURATION</th>\n",
       "      <th>ACTION_TAKEN1_DESC</th>\n",
       "      <th>...</th>\n",
       "      <th>ZIP_CODE</th>\n",
       "      <th>BOROUGH_DESC</th>\n",
       "      <th>FLOOR</th>\n",
       "      <th>CO_DETECTOR_PRESENT_DESC</th>\n",
       "      <th>FIRE_ORIGIN_BELOW_GRADE_FLAG</th>\n",
       "      <th>STORY_FIRE_ORIGIN_COUNT</th>\n",
       "      <th>FIRE_SPREAD_DESC</th>\n",
       "      <th>DETECTOR_PRESENCE_DESC</th>\n",
       "      <th>AES_PRESENCE_DESC</th>\n",
       "      <th>STANDPIPE_SYS_PRESENT_FLAG</th>\n",
       "    </tr>\n",
       "  </thead>\n",
       "  <tbody>\n",
       "    <tr>\n",
       "      <th>0</th>\n",
       "      <td>55672688</td>\n",
       "      <td>2147</td>\n",
       "      <td>300 - Rescue, EMS incident, other</td>\n",
       "      <td>2013-01-01 00:00:20</td>\n",
       "      <td>2013-01-01 00:14:23</td>\n",
       "      <td>1.0</td>\n",
       "      <td>2013-01-01 00:20:06</td>\n",
       "      <td>1 - More than initial alarm, less than Signal 7-5</td>\n",
       "      <td>1186.0</td>\n",
       "      <td>00 - Action taken, other</td>\n",
       "      <td>...</td>\n",
       "      <td>10454</td>\n",
       "      <td>2 - Bronx</td>\n",
       "      <td>NaN</td>\n",
       "      <td>NaN</td>\n",
       "      <td>NaN</td>\n",
       "      <td>NaN</td>\n",
       "      <td>NaN</td>\n",
       "      <td>NaN</td>\n",
       "      <td>NaN</td>\n",
       "      <td>NaN</td>\n",
       "    </tr>\n",
       "    <tr>\n",
       "      <th>1</th>\n",
       "      <td>55672692</td>\n",
       "      <td>0818</td>\n",
       "      <td>735A - Unwarranted alarm/defective condition o...</td>\n",
       "      <td>2013-01-01 00:00:37</td>\n",
       "      <td>2013-01-01 00:09:03</td>\n",
       "      <td>3.0</td>\n",
       "      <td>2013-01-01 00:30:06</td>\n",
       "      <td>1 - More than initial alarm, less than Signal 7-5</td>\n",
       "      <td>1769.0</td>\n",
       "      <td>86 - Investigate</td>\n",
       "      <td>...</td>\n",
       "      <td>10036</td>\n",
       "      <td>1 - Manhattan</td>\n",
       "      <td>NaN</td>\n",
       "      <td>NaN</td>\n",
       "      <td>NaN</td>\n",
       "      <td>NaN</td>\n",
       "      <td>NaN</td>\n",
       "      <td>NaN</td>\n",
       "      <td>NaN</td>\n",
       "      <td>NaN</td>\n",
       "    </tr>\n",
       "    <tr>\n",
       "      <th>2</th>\n",
       "      <td>55672693</td>\n",
       "      <td>9656</td>\n",
       "      <td>300 - Rescue, EMS incident, other</td>\n",
       "      <td>2013-01-01 00:01:17</td>\n",
       "      <td>2013-01-01 00:04:55</td>\n",
       "      <td>1.0</td>\n",
       "      <td>2013-01-01 00:15:18</td>\n",
       "      <td>1 - More than initial alarm, less than Signal 7-5</td>\n",
       "      <td>841.0</td>\n",
       "      <td>00 - Action taken, other</td>\n",
       "      <td>...</td>\n",
       "      <td>11418</td>\n",
       "      <td>5 - Queens</td>\n",
       "      <td>NaN</td>\n",
       "      <td>NaN</td>\n",
       "      <td>NaN</td>\n",
       "      <td>NaN</td>\n",
       "      <td>NaN</td>\n",
       "      <td>NaN</td>\n",
       "      <td>NaN</td>\n",
       "      <td>NaN</td>\n",
       "    </tr>\n",
       "    <tr>\n",
       "      <th>3</th>\n",
       "      <td>55672695</td>\n",
       "      <td>7412</td>\n",
       "      <td>412 - Gas leak (natural gas or LPG)</td>\n",
       "      <td>2013-01-01 00:02:32</td>\n",
       "      <td>2013-01-01 00:07:48</td>\n",
       "      <td>4.0</td>\n",
       "      <td>2013-01-01 00:40:11</td>\n",
       "      <td>1 - More than initial alarm, less than Signal 7-5</td>\n",
       "      <td>2259.0</td>\n",
       "      <td>44 - Hazardous materials leak control &amp; contai...</td>\n",
       "      <td>...</td>\n",
       "      <td>11103</td>\n",
       "      <td>5 - Queens</td>\n",
       "      <td>1</td>\n",
       "      <td>NaN</td>\n",
       "      <td>NaN</td>\n",
       "      <td>NaN</td>\n",
       "      <td>NaN</td>\n",
       "      <td>NaN</td>\n",
       "      <td>NaN</td>\n",
       "      <td>NaN</td>\n",
       "    </tr>\n",
       "    <tr>\n",
       "      <th>4</th>\n",
       "      <td>55672697</td>\n",
       "      <td>4019</td>\n",
       "      <td>735A - Unwarranted alarm/defective condition o...</td>\n",
       "      <td>2013-01-01 00:01:49</td>\n",
       "      <td>2013-01-01 00:06:27</td>\n",
       "      <td>6.0</td>\n",
       "      <td>2013-01-01 00:24:56</td>\n",
       "      <td>1 - More than initial alarm, less than Signal 7-5</td>\n",
       "      <td>1387.0</td>\n",
       "      <td>86 - Investigate</td>\n",
       "      <td>...</td>\n",
       "      <td>11385</td>\n",
       "      <td>5 - Queens</td>\n",
       "      <td>NaN</td>\n",
       "      <td>NaN</td>\n",
       "      <td>NaN</td>\n",
       "      <td>NaN</td>\n",
       "      <td>NaN</td>\n",
       "      <td>NaN</td>\n",
       "      <td>NaN</td>\n",
       "      <td>NaN</td>\n",
       "    </tr>\n",
       "  </tbody>\n",
       "</table>\n",
       "<p>5 rows × 24 columns</p>\n",
       "</div>"
      ],
      "text/plain": [
       "   IM_INCIDENT_KEY FIRE_BOX  \\\n",
       "0         55672688     2147   \n",
       "1         55672692     0818   \n",
       "2         55672693     9656   \n",
       "3         55672695     7412   \n",
       "4         55672697     4019   \n",
       "\n",
       "                                  INCIDENT_TYPE_DESC  INCIDENT_DATE_TIME  \\\n",
       "0                  300 - Rescue, EMS incident, other 2013-01-01 00:00:20   \n",
       "1  735A - Unwarranted alarm/defective condition o... 2013-01-01 00:00:37   \n",
       "2                  300 - Rescue, EMS incident, other 2013-01-01 00:01:17   \n",
       "3                412 - Gas leak (natural gas or LPG) 2013-01-01 00:02:32   \n",
       "4  735A - Unwarranted alarm/defective condition o... 2013-01-01 00:01:49   \n",
       "\n",
       "    ARRIVAL_DATE_TIME  UNITS_ONSCENE LAST_UNIT_CLEARED_DATE_TIME  \\\n",
       "0 2013-01-01 00:14:23            1.0         2013-01-01 00:20:06   \n",
       "1 2013-01-01 00:09:03            3.0         2013-01-01 00:30:06   \n",
       "2 2013-01-01 00:04:55            1.0         2013-01-01 00:15:18   \n",
       "3 2013-01-01 00:07:48            4.0         2013-01-01 00:40:11   \n",
       "4 2013-01-01 00:06:27            6.0         2013-01-01 00:24:56   \n",
       "\n",
       "                                  HIGHEST_LEVEL_DESC  TOTAL_INCIDENT_DURATION  \\\n",
       "0  1 - More than initial alarm, less than Signal 7-5                   1186.0   \n",
       "1  1 - More than initial alarm, less than Signal 7-5                   1769.0   \n",
       "2  1 - More than initial alarm, less than Signal 7-5                    841.0   \n",
       "3  1 - More than initial alarm, less than Signal 7-5                   2259.0   \n",
       "4  1 - More than initial alarm, less than Signal 7-5                   1387.0   \n",
       "\n",
       "                                  ACTION_TAKEN1_DESC  ... ZIP_CODE  \\\n",
       "0                           00 - Action taken, other  ...    10454   \n",
       "1                                   86 - Investigate  ...    10036   \n",
       "2                           00 - Action taken, other  ...    11418   \n",
       "3  44 - Hazardous materials leak control & contai...  ...    11103   \n",
       "4                                   86 - Investigate  ...    11385   \n",
       "\n",
       "    BOROUGH_DESC FLOOR CO_DETECTOR_PRESENT_DESC FIRE_ORIGIN_BELOW_GRADE_FLAG  \\\n",
       "0      2 - Bronx   NaN                      NaN                          NaN   \n",
       "1  1 - Manhattan   NaN                      NaN                          NaN   \n",
       "2     5 - Queens   NaN                      NaN                          NaN   \n",
       "3     5 - Queens     1                      NaN                          NaN   \n",
       "4     5 - Queens   NaN                      NaN                          NaN   \n",
       "\n",
       "  STORY_FIRE_ORIGIN_COUNT FIRE_SPREAD_DESC DETECTOR_PRESENCE_DESC  \\\n",
       "0                     NaN              NaN                    NaN   \n",
       "1                     NaN              NaN                    NaN   \n",
       "2                     NaN              NaN                    NaN   \n",
       "3                     NaN              NaN                    NaN   \n",
       "4                     NaN              NaN                    NaN   \n",
       "\n",
       "   AES_PRESENCE_DESC  STANDPIPE_SYS_PRESENT_FLAG  \n",
       "0                NaN                         NaN  \n",
       "1                NaN                         NaN  \n",
       "2                NaN                         NaN  \n",
       "3                NaN                         NaN  \n",
       "4                NaN                         NaN  \n",
       "\n",
       "[5 rows x 24 columns]"
      ]
     },
     "execution_count": 24,
     "metadata": {},
     "output_type": "execute_result"
    }
   ],
   "source": [
    "df.head()"
   ]
  },
  {
   "cell_type": "markdown",
   "metadata": {},
   "source": [
    "##### 1. What proportion of FDNY responses in this dataset correspond to the most common type of incident?"
   ]
  },
  {
   "cell_type": "code",
   "execution_count": 25,
   "metadata": {},
   "outputs": [
    {
     "data": {
      "text/html": [
       "<div>\n",
       "<style scoped>\n",
       "    .dataframe tbody tr th:only-of-type {\n",
       "        vertical-align: middle;\n",
       "    }\n",
       "\n",
       "    .dataframe tbody tr th {\n",
       "        vertical-align: top;\n",
       "    }\n",
       "\n",
       "    .dataframe thead th {\n",
       "        text-align: right;\n",
       "    }\n",
       "</style>\n",
       "<table border=\"1\" class=\"dataframe\">\n",
       "  <thead>\n",
       "    <tr style=\"text-align: right;\">\n",
       "      <th></th>\n",
       "      <th>counts</th>\n",
       "    </tr>\n",
       "  </thead>\n",
       "  <tbody>\n",
       "    <tr>\n",
       "      <th>300 - Rescue, EMS incident, other</th>\n",
       "      <td>906466</td>\n",
       "    </tr>\n",
       "    <tr>\n",
       "      <th>651 - Smoke scare, odor of smoke</th>\n",
       "      <td>161886</td>\n",
       "    </tr>\n",
       "    <tr>\n",
       "      <th>353 - Removal of victim(s) from stalled elevator</th>\n",
       "      <td>131509</td>\n",
       "    </tr>\n",
       "    <tr>\n",
       "      <th>710 - Malicious, mischievous false call, other</th>\n",
       "      <td>129466</td>\n",
       "    </tr>\n",
       "    <tr>\n",
       "      <th>522 - Water or steam leak</th>\n",
       "      <td>122716</td>\n",
       "    </tr>\n",
       "    <tr>\n",
       "      <th>...</th>\n",
       "      <td>...</td>\n",
       "    </tr>\n",
       "    <tr>\n",
       "      <th>632 - Prescribed fire</th>\n",
       "      <td>3</td>\n",
       "    </tr>\n",
       "    <tr>\n",
       "      <th>135 - Aircraft fire</th>\n",
       "      <td>3</td>\n",
       "    </tr>\n",
       "    <tr>\n",
       "      <th>136 - Self-propelled motor home or recreational vehicle</th>\n",
       "      <td>2</td>\n",
       "    </tr>\n",
       "    <tr>\n",
       "      <th>173 - Cultivated trees or nursery stock fire</th>\n",
       "      <td>2</td>\n",
       "    </tr>\n",
       "    <tr>\n",
       "      <th>172 - Cultivated orchard or vineyard fire</th>\n",
       "      <td>1</td>\n",
       "    </tr>\n",
       "  </tbody>\n",
       "</table>\n",
       "<p>182 rows × 1 columns</p>\n",
       "</div>"
      ],
      "text/plain": [
       "                                                    counts\n",
       "300 - Rescue, EMS incident, other                   906466\n",
       "651 - Smoke scare, odor of smoke                    161886\n",
       "353 - Removal of victim(s) from stalled elevator    131509\n",
       "710 - Malicious, mischievous false call, other      129466\n",
       "522 - Water or steam leak                           122716\n",
       "...                                                    ...\n",
       "632 - Prescribed fire                                    3\n",
       "135 - Aircraft fire                                      3\n",
       "136 - Self-propelled motor home or recreational...       2\n",
       "173 - Cultivated trees or nursery stock fire             2\n",
       "172 - Cultivated orchard or vineyard fire                1\n",
       "\n",
       "[182 rows x 1 columns]"
      ]
     },
     "execution_count": 25,
     "metadata": {},
     "output_type": "execute_result"
    }
   ],
   "source": [
    "# count the number of different types and convert to a dataframe\n",
    "df[\"INCIDENT_TYPE_DESC\"].value_counts().to_frame(name = \"counts\")"
   ]
  },
  {
   "cell_type": "code",
   "execution_count": 26,
   "metadata": {},
   "outputs": [],
   "source": [
    "# calculate the fraction of the most common type\n",
    "fraction = df[\"INCIDENT_TYPE_DESC\"].value_counts()[0]/len(df)"
   ]
  },
  {
   "cell_type": "code",
   "execution_count": 27,
   "metadata": {},
   "outputs": [
    {
     "name": "stdout",
     "output_type": "stream",
     "text": [
      "0.3598861026 of calls are of the most common type of incident\n"
     ]
    }
   ],
   "source": [
    "print(\"{:.10f} of calls are of the most common type of incident\".format(fraction))"
   ]
  },
  {
   "cell_type": "markdown",
   "metadata": {},
   "source": [
    "##### 2. What is the ratio of the average number of units that arrive to a scene of an incident classified as '111 - Building fire' to the number that arrive for '651 - Smoke scare, odor of smoke'?"
   ]
  },
  {
   "cell_type": "code",
   "execution_count": 28,
   "metadata": {},
   "outputs": [],
   "source": [
    "# Calculate the average number of units that arrive to a scene of an incident classified as '111 - Building fire'\n",
    "unit_111 = df[df[\"INCIDENT_TYPE_DESC\"] == \"111 - Building fire\"][\"UNITS_ONSCENE\"].mean()"
   ]
  },
  {
   "cell_type": "code",
   "execution_count": 29,
   "metadata": {},
   "outputs": [],
   "source": [
    "# Calculate the average number of units that arrive to a scene of an incident classified as '651 - Smoke scare, odor of smoke'\n",
    "unit_651 = df[df[\"INCIDENT_TYPE_DESC\"] == \"651 - Smoke scare, odor of smoke\"][\"UNITS_ONSCENE\"].mean()"
   ]
  },
  {
   "cell_type": "code",
   "execution_count": 30,
   "metadata": {},
   "outputs": [],
   "source": [
    "# Calculate the ratio of the two avearge number of units\n",
    "unit_ratio = unit_111/unit_651"
   ]
  },
  {
   "cell_type": "code",
   "execution_count": 31,
   "metadata": {},
   "outputs": [
    {
     "name": "stdout",
     "output_type": "stream",
     "text": [
      "the ratio of the two types of incidents is 2.8011572258\n"
     ]
    }
   ],
   "source": [
    "print(\"the ratio of the two types of incidents is {:.10f}\".format(unit_ratio))"
   ]
  },
  {
   "cell_type": "markdown",
   "metadata": {},
   "source": [
    "##### 3. How many times more likely is an incident in Staten Island a false call compared to in Manhattan? The answer should be the ratio of Staten Island false call rate to Manhattan false call rate. A false call is an incident for which 'INCIDENT_TYPE_DESC' is '710 - Malicious, mischievous false call, other'.\n"
   ]
  },
  {
   "cell_type": "code",
   "execution_count": 32,
   "metadata": {},
   "outputs": [],
   "source": [
    "# Calculate the false call rate of Staten Island\n",
    "rate_staten = (df[df[\"BOROUGH_DESC\"] == \"3 - Staten Island\"][\"INCIDENT_TYPE_DESC\"] == \"710 - Malicious, mischievous false call, other\").mean()"
   ]
  },
  {
   "cell_type": "code",
   "execution_count": 33,
   "metadata": {},
   "outputs": [],
   "source": [
    "# Calculate the false call rate of Manhattan\n",
    "rate_manhattan = (df[df[\"BOROUGH_DESC\"] == \"1 - Manhattan\"][\"INCIDENT_TYPE_DESC\"] == \"710 - Malicious, mischievous false call, other\").mean()"
   ]
  },
  {
   "cell_type": "code",
   "execution_count": 34,
   "metadata": {},
   "outputs": [],
   "source": [
    "# Calculate the ratio of Staten Island false call rate to Manhattan false call rate\n",
    "falsecall_ratio = rate_staten/rate_manhattan"
   ]
  },
  {
   "cell_type": "code",
   "execution_count": 35,
   "metadata": {},
   "outputs": [
    {
     "name": "stdout",
     "output_type": "stream",
     "text": [
      "1.6030401197 times more likely is an incident in Staten Island a false call compared to in Manhattan\n"
     ]
    }
   ],
   "source": [
    "print(\"{:.10f} times more likely is an incident in Staten Island a false call compared to in Manhattan\".format(falsecall_ratio))"
   ]
  },
  {
   "cell_type": "markdown",
   "metadata": {},
   "source": [
    "##### 4. Check the distribution of the number of minutes it takes between the time a '111 - Building fire' incident has been logged into the Computer Aided Dispatch system and the time at which the first unit arrives on scene. What is the third quartile of that distribution. Note: the number of minutes can be fractional (ie, do not round)."
   ]
  },
  {
   "cell_type": "code",
   "execution_count": 36,
   "metadata": {},
   "outputs": [],
   "source": [
    "# Calculate the response time between incident logged into computer and time of arrival\n",
    "response_time = (df[\"ARRIVAL_DATE_TIME\"] - df[\"INCIDENT_DATE_TIME\"]).dt.seconds/60"
   ]
  },
  {
   "cell_type": "code",
   "execution_count": 37,
   "metadata": {},
   "outputs": [],
   "source": [
    "# Calculate the third quartile of the distribution\n",
    "time_quartile = response_time.quantile(q = 0.75)"
   ]
  },
  {
   "cell_type": "code",
   "execution_count": 38,
   "metadata": {},
   "outputs": [
    {
     "name": "stdout",
     "output_type": "stream",
     "text": [
      "The third quartile of the distribution is 5.7833333333\n"
     ]
    }
   ],
   "source": [
    "print(\"The third quartile of the distribution is {:.10f}\".format(time_quartile))"
   ]
  },
  {
   "cell_type": "markdown",
   "metadata": {},
   "source": [
    "##### 5. We can use the FDNY dataset to investigate at what time of the day people cook most. Compute what proportion of all incidents are cooking fires for every hour of the day by normalizing the number of cooking fires in a given hour by the total number of incidents that occured in that hour. Find the hour of the day that has the highest proportion of cooking fires and submit that proportion of cooking fires. A cooking fire is an incident for which 'INCIDENT_TYPE_DESC' is '113 - Cooking fire, confined to container'. Note: round incident times down. For example, if an incident occured at 22:55 it occured in hour 22."
   ]
  },
  {
   "cell_type": "code",
   "execution_count": 39,
   "metadata": {},
   "outputs": [],
   "source": [
    "# Calculate the proportion of cook fire to all incidents in each hour \n",
    "proportion = df.groupby(df[\"INCIDENT_DATE_TIME\"].dt.hour)[\"INCIDENT_TYPE_DESC\"].agg(lambda x: np.mean(x == \"113 - Cooking fire, confined to container\"))"
   ]
  },
  {
   "cell_type": "code",
   "execution_count": 193,
   "metadata": {},
   "outputs": [],
   "source": [
    "# Find the hour of day with the highest proportion\n",
    "cook_proportion = proportion.sort_values(ascending = False).iloc[0]"
   ]
  },
  {
   "cell_type": "code",
   "execution_count": 42,
   "metadata": {},
   "outputs": [
    {
     "name": "stdout",
     "output_type": "stream",
     "text": [
      "The hour 18 has the highest proportion of cooking fires with the proportion of 0.0510933146\n"
     ]
    }
   ],
   "source": [
    "print(\"The hour 18 has the highest proportion of cooking fires with the proportion of {:.10f}\".format(cook_proportion))"
   ]
  },
  {
   "cell_type": "markdown",
   "metadata": {},
   "source": [
    "#####  6. What is the coefficient of determination (R squared) between the number of residents at each ZIP code and the number of inicidents whose type is classified as '111 - Building fire' at each of those zip codes. Note: the population for each ZIP code in New York state can be found here. Ignore ZIP codes that do not appear on the website."
   ]
  },
  {
   "cell_type": "code",
   "execution_count": 87,
   "metadata": {},
   "outputs": [],
   "source": [
    "# read the file for population for each ZIP in New York\n",
    "df_zip = pd.read_csv(\"NYC_zip.csv\")"
   ]
  },
  {
   "cell_type": "code",
   "execution_count": 88,
   "metadata": {},
   "outputs": [],
   "source": [
    "# change zip column to float data type\n",
    "df_zip[\"Zip Code\"] = df_zip[\"Zip Code\"].astype(float)"
   ]
  },
  {
   "cell_type": "code",
   "execution_count": 52,
   "metadata": {},
   "outputs": [],
   "source": [
    "# change the zip column to the same data type\n",
    "df[\"ZIP_CODE_new\"] = df[\"ZIP_CODE\"].str.replace('-\\d+', '')\n",
    "df[\"ZIP_CODE_new\"] = df[\"ZIP_CODE_new\"].astype(float)"
   ]
  },
  {
   "cell_type": "code",
   "execution_count": 78,
   "metadata": {},
   "outputs": [],
   "source": [
    "# subset the original incident datasets to only keep type and zipcode\n",
    "df_reg = df[[\"INCIDENT_TYPE_DESC\", \"ZIP_CODE_new\"]]"
   ]
  },
  {
   "cell_type": "code",
   "execution_count": 104,
   "metadata": {},
   "outputs": [],
   "source": [
    "# get the data only for building fire\n",
    "df_bf = df_reg[df_reg[\"INCIDENT_TYPE_DESC\"] == \"111 - Building fire\"]"
   ]
  },
  {
   "cell_type": "code",
   "execution_count": 106,
   "metadata": {},
   "outputs": [],
   "source": [
    "# use groupby to find the count of incidents for each zip code\n",
    "df_group = df_bf.groupby(\"ZIP_CODE_new\")[\"INCIDENT_TYPE_DESC\"].count().to_frame().reset_index()"
   ]
  },
  {
   "cell_type": "code",
   "execution_count": 91,
   "metadata": {},
   "outputs": [],
   "source": [
    "# concatnate the two dataframes based on zip code\n",
    "df_regression = df_group.merge(df_zip, left_on = \"ZIP_CODE_new\", right_on = \"Zip Code\", how = \"left\")"
   ]
  },
  {
   "cell_type": "code",
   "execution_count": 111,
   "metadata": {},
   "outputs": [],
   "source": [
    "# change the column name to count\n",
    "df_regression.rename(columns = {\"INCIDENT_TYPE_DESC\": \"Count\"}, inplace = True)"
   ]
  },
  {
   "cell_type": "code",
   "execution_count": 114,
   "metadata": {},
   "outputs": [],
   "source": [
    "# remove nan\n",
    "df_regression.dropna(inplace = True)"
   ]
  },
  {
   "cell_type": "code",
   "execution_count": 115,
   "metadata": {},
   "outputs": [],
   "source": [
    "# calculate the coefficient of OLS using np.polyfit\n",
    "coefficient, intercept = np.polyfit(df_regression[\"Population\"], df_regression[\"Count\"], deg = 1)"
   ]
  },
  {
   "cell_type": "code",
   "execution_count": 116,
   "metadata": {},
   "outputs": [
    {
     "name": "stdout",
     "output_type": "stream",
     "text": [
      "the coefficient between he number of residents at each ZIP code and the number of inicident is 0.0015251086\n"
     ]
    }
   ],
   "source": [
    "print(\"the coefficient between he number of residents at each ZIP code and the number of inicident is {:.10f}\".format(coefficient))"
   ]
  },
  {
   "cell_type": "markdown",
   "metadata": {},
   "source": [
    "##### 7. Calculate the chi-square test statistic for testing whether an incident is more likely to last longer than 60 minutes when CO detector is not present. Again only consider incidents that have information about whether a CO detector was present or not."
   ]
  },
  {
   "cell_type": "code",
   "execution_count": 134,
   "metadata": {},
   "outputs": [],
   "source": [
    "# subset the data for only the incidents with CO detector information\n",
    "df_CO = df[df[\"CO_DETECTOR_PRESENT_DESC\"].notnull()]"
   ]
  },
  {
   "cell_type": "code",
   "execution_count": 137,
   "metadata": {},
   "outputs": [
    {
     "name": "stderr",
     "output_type": "stream",
     "text": [
      "C:\\Users\\XM5804\\AppData\\Local\\Continuum\\anaconda3\\lib\\site-packages\\ipykernel_launcher.py:2: SettingWithCopyWarning: \n",
      "A value is trying to be set on a copy of a slice from a DataFrame.\n",
      "Try using .loc[row_indexer,col_indexer] = value instead\n",
      "\n",
      "See the caveats in the documentation: https://pandas.pydata.org/pandas-docs/stable/user_guide/indexing.html#returning-a-view-versus-a-copy\n",
      "  \n"
     ]
    }
   ],
   "source": [
    "# calculate the time duration for each instance\n",
    "df_CO[\"duration\"] = (df_CO[\"LAST_UNIT_CLEARED_DATE_TIME\"] - df_CO[\"ARRIVAL_DATE_TIME\"]).dt.seconds"
   ]
  },
  {
   "cell_type": "code",
   "execution_count": 140,
   "metadata": {},
   "outputs": [],
   "source": [
    "# only keep the duration and CO detector information\n",
    "df_CO = df_CO[[\"duration\" , \"CO_DETECTOR_PRESENT_DESC\"]]"
   ]
  },
  {
   "cell_type": "code",
   "execution_count": 176,
   "metadata": {},
   "outputs": [],
   "source": [
    "# calculate the frequency of each case\n",
    "# with CO detector and less than 60 minute\n",
    "chi_11 = df_CO[(df_CO[\"duration\"] <= 3600) & (df_CO[\"CO_DETECTOR_PRESENT_DESC\"] == \"Yes\")].shape[0]"
   ]
  },
  {
   "cell_type": "code",
   "execution_count": 177,
   "metadata": {},
   "outputs": [],
   "source": [
    "# with CO detector and longer than 60 minute\n",
    "chi_12 = df_CO[(df_CO[\"duration\"] > 3600) & (df_CO[\"CO_DETECTOR_PRESENT_DESC\"] == \"Yes\")].shape[0]"
   ]
  },
  {
   "cell_type": "code",
   "execution_count": 178,
   "metadata": {},
   "outputs": [],
   "source": [
    "# without CO detector and less than 60 minute\n",
    "chi_21 = df_CO[(df_CO[\"duration\"] <= 3600) & (df_CO[\"CO_DETECTOR_PRESENT_DESC\"] == \"No\")].shape[0]"
   ]
  },
  {
   "cell_type": "code",
   "execution_count": 179,
   "metadata": {},
   "outputs": [],
   "source": [
    "# without CO detector and longer than 60 minute\n",
    "chi_22 = df_CO[(df_CO[\"duration\"] > 3600) & (df_CO[\"CO_DETECTOR_PRESENT_DESC\"] == \"No\")].shape[0]"
   ]
  },
  {
   "cell_type": "code",
   "execution_count": 186,
   "metadata": {},
   "outputs": [],
   "source": [
    "# run the chi-square test\n",
    "chi2, p, dof, ex = stats.chi2_contingency(np.array([[25498, 738],[5287,829]]), correction=False)"
   ]
  },
  {
   "cell_type": "code",
   "execution_count": 187,
   "metadata": {},
   "outputs": [
    {
     "name": "stdout",
     "output_type": "stream",
     "text": [
      "the test statistic of chi-squre for CO detector and response duration is 1241.6599284647\n"
     ]
    }
   ],
   "source": [
    "print(\"the test statistic of chi-squre for CO detector and response duration is {:.10f}\".format(chi2))"
   ]
  },
  {
   "cell_type": "code",
   "execution_count": null,
   "metadata": {},
   "outputs": [],
   "source": []
  }
 ],
 "metadata": {
  "kernelspec": {
   "display_name": "Python 3",
   "language": "python",
   "name": "python3"
  },
  "language_info": {
   "codemirror_mode": {
    "name": "ipython",
    "version": 3
   },
   "file_extension": ".py",
   "mimetype": "text/x-python",
   "name": "python",
   "nbconvert_exporter": "python",
   "pygments_lexer": "ipython3",
   "version": "3.6.1"
  }
 },
 "nbformat": 4,
 "nbformat_minor": 2
}
