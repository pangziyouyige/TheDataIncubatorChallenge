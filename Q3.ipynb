{
 "cells": [
  {
   "cell_type": "code",
   "execution_count": 1,
   "metadata": {},
   "outputs": [],
   "source": [
    "import numpy as np"
   ]
  },
  {
   "cell_type": "code",
   "execution_count": 3,
   "metadata": {},
   "outputs": [],
   "source": [
    "# Set the random seed to reproduce results\n",
    "np.random.seed(420)"
   ]
  },
  {
   "cell_type": "code",
   "execution_count": 4,
   "metadata": {},
   "outputs": [],
   "source": [
    "# Set the possible move of bee\n",
    "positions = np.array([[0, 1], [0, -1], [np.sqrt(2), np.sqrt(2)], [np.sqrt(2), -np.sqrt(2)], [-np.sqrt(2), np.sqrt(2)], [-np.sqrt(2), -np.sqrt(2)]])"
   ]
  },
  {
   "cell_type": "code",
   "execution_count": 5,
   "metadata": {},
   "outputs": [
    {
     "data": {
      "text/plain": [
       "array([[ 0.        ,  1.        ],\n",
       "       [ 0.        , -1.        ],\n",
       "       [ 1.41421356,  1.41421356],\n",
       "       [ 1.41421356, -1.41421356],\n",
       "       [-1.41421356,  1.41421356],\n",
       "       [-1.41421356, -1.41421356]])"
      ]
     },
     "execution_count": 5,
     "metadata": {},
     "output_type": "execute_result"
    }
   ],
   "source": [
    "positions"
   ]
  },
  {
   "cell_type": "code",
   "execution_count": 6,
   "metadata": {},
   "outputs": [],
   "source": [
    "# Set the equal probabilities\n",
    "probabilities = [1/6 for x in range(len(positions))]"
   ]
  },
  {
   "cell_type": "code",
   "execution_count": 10,
   "metadata": {},
   "outputs": [],
   "source": [
    "# Number of moves\n",
    "moves_13 = 13"
   ]
  },
  {
   "cell_type": "code",
   "execution_count": 11,
   "metadata": {},
   "outputs": [],
   "source": [
    "# Initiate the numpy array to store the average distance for each experiment, simulate for 100000 times\n",
    "results_13 = np.empty(100000)"
   ]
  },
  {
   "cell_type": "code",
   "execution_count": 12,
   "metadata": {},
   "outputs": [],
   "source": [
    "# Use statistical simulation to model 100000 times, 13 moves for each time, and calculate the expected distance\n",
    "for i in range(len(results_13)):\n",
    "    start_13 = [0, 0]\n",
    "    end_13 = [0, 0]\n",
    "    \n",
    "    outcome = np.random.choice(len(positions), p=probabilities, size=moves_13)\n",
    "    \n",
    "    for j in positions[outcome]:\n",
    "        end_13[0] += j[0]\n",
    "        end_13[1] += j[1]\n",
    "    \n",
    "    distance  =  np.sqrt((end_13[1] - start_13[1])**2 + (end_13[0] - start_13[0])**2)\n",
    "    results_13[i] = distance\n",
    "    \n",
    "    avg_distance_13 = np.mean(results_13)\n",
    "    std_distance_13 = np.std(results_13)"
   ]
  },
  {
   "cell_type": "code",
   "execution_count": 14,
   "metadata": {},
   "outputs": [
    {
     "name": "stdout",
     "output_type": "stream",
     "text": [
      "After 13 steps, the expected value of the bee's distance from the starting hexagon is 5.54234\n"
     ]
    }
   ],
   "source": [
    "# After T=13 steps, what is the expected value of the bee's distance from the starting hexagon?\n",
    "print(\"After 13 steps, the expected value of the bee's distance from the starting hexagon is {:.5f}\".format(avg_distance_13))"
   ]
  },
  {
   "cell_type": "code",
   "execution_count": 15,
   "metadata": {},
   "outputs": [
    {
     "name": "stdout",
     "output_type": "stream",
     "text": [
      "After 13 steps, the standard deviation of the bee's distance from the starting hexagon is 2.86422\n"
     ]
    }
   ],
   "source": [
    "#A fter T=13 steps, what is the standard deviation of the bee's distance from the starting hexagon?\n",
    "print(\"After 13 steps, the standard deviation of the bee's distance from the starting hexagon is {:.5f}\".format(std_distance_13))"
   ]
  },
  {
   "cell_type": "code",
   "execution_count": 17,
   "metadata": {},
   "outputs": [
    {
     "name": "stdout",
     "output_type": "stream",
     "text": [
      "After 13 steps, the expected value of the bee's distance from the starting hexagon is 7.00858 if the bee is at least 4 units away\n"
     ]
    }
   ],
   "source": [
    "# After T=13 steps, what is the expected value of the bee's distance from the starting hexagon if we know the bee is at least 4 units away?\n",
    "results_updates = results_13[results_13 >= 4]\n",
    "new_distance = np.mean(results_updates)\n",
    "print(\"After 13 steps, the expected value of the bee's distance from the starting hexagon is {:.5f} if the bee is at least 4 units away\".format(new_distance))"
   ]
  },
  {
   "cell_type": "code",
   "execution_count": 18,
   "metadata": {},
   "outputs": [],
   "source": [
    "# Use statistical simulation to model 100000 times, 60 moves for each time, and calculate the expected distance\n",
    "moves_60 = 60\n",
    "\n",
    "start_60 = [0, 0]\n",
    "end_60 = [0, 0]\n",
    "\n",
    "results_60 = np.empty(100000)\n",
    "\n",
    "for i in range(len(results_60)):\n",
    "    start_60 = [0, 0]\n",
    "    end_60 = [0, 0]\n",
    "    \n",
    "    outcome = np.random.choice(len(positions), p=probabilities, size=moves_60)\n",
    "    \n",
    "    for j in positions[outcome]:\n",
    "        end_60[0] += j[0]\n",
    "        end_60[1] += j[1]\n",
    "    \n",
    "    distance  =  np.sqrt((end_60[1] - start_60[1])**2 + (end_60[0] - start_60[0])**2)\n",
    "    results_60[i] = distance\n",
    "    \n",
    "    avg_distance_60 = np.mean(results_60)\n",
    "    std_distance_60 = np.std(results_60)"
   ]
  },
  {
   "cell_type": "code",
   "execution_count": 19,
   "metadata": {},
   "outputs": [
    {
     "name": "stdout",
     "output_type": "stream",
     "text": [
      "After 60 steps, the expected value of the bee's distance from the starting hexagon is 11.86484\n"
     ]
    }
   ],
   "source": [
    "# After T=60 steps, what is the expected value of the bee's distance from the starting hexagon?\n",
    "print(\"After 60 steps, the expected value of the bee's distance from the starting hexagon is {:.5f}\".format(avg_distance_60))"
   ]
  },
  {
   "cell_type": "code",
   "execution_count": 20,
   "metadata": {},
   "outputs": [
    {
     "name": "stdout",
     "output_type": "stream",
     "text": [
      "After 60 steps, the standard deviation of the bee's distance from the starting hexagon is 6.21013\n"
     ]
    }
   ],
   "source": [
    "# After T=60 steps, what is the standard deviation of the bee's distance from the starting hexagon?\n",
    "print(\"After 60 steps, the standard deviation of the bee's distance from the starting hexagon is {:.5f}\".format(std_distance_60))"
   ]
  },
  {
   "cell_type": "code",
   "execution_count": 21,
   "metadata": {},
   "outputs": [
    {
     "name": "stdout",
     "output_type": "stream",
     "text": [
      "the probability that the bee is at least 20 units away from the starting hexagon, given it is at least 15 units away is 0.37680\n"
     ]
    }
   ],
   "source": [
    "# After T=60 moves, what is the probability that the bee is at least 20 units away from the starting hexagon, given it is at least 15 units away?\n",
    "results_updates = results_60[results_60 >= 15]\n",
    "results_probability = np.mean(results_updates > 20)\n",
    "print(\"the probability that the bee is at least 20 units away from the starting hexagon, given it is at least 15 units away is {:.5f}\".format(results_probability))"
   ]
  },
  {
   "cell_type": "code",
   "execution_count": null,
   "metadata": {},
   "outputs": [],
   "source": []
  }
 ],
 "metadata": {
  "kernelspec": {
   "display_name": "Python 3",
   "language": "python",
   "name": "python3"
  },
  "language_info": {
   "codemirror_mode": {
    "name": "ipython",
    "version": 3
   },
   "file_extension": ".py",
   "mimetype": "text/x-python",
   "name": "python",
   "nbconvert_exporter": "python",
   "pygments_lexer": "ipython3",
   "version": "3.6.1"
  }
 },
 "nbformat": 4,
 "nbformat_minor": 4
}
